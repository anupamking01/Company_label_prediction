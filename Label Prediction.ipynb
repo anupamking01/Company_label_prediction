{
 "cells": [
  {
   "cell_type": "markdown",
   "metadata": {},
   "source": [
    "# 1. Problem Statement"
   ]
  },
  {
   "cell_type": "markdown",
   "metadata": {},
   "source": [
    "For a given datapoint find the tags accurately. A datapoint can have one or more number of tags."
   ]
  },
  {
   "cell_type": "markdown",
   "metadata": {},
   "source": [
    "# 2. Machine Learning Problem"
   ]
  },
  {
   "cell_type": "markdown",
   "metadata": {},
   "source": [
    "## 2.1 Data"
   ]
  },
  {
   "cell_type": "markdown",
   "metadata": {},
   "source": [
    "* There are 20,000 datapoints in the dataset and 12 columns in the dataset.\n",
    "\n",
    "|Column Name|Description|\n",
    "|---|---|\n",
    "|CORPORATE_IDENTIFICATION_NUMBER|     a unique id|\n",
    "|COMPANY_NAME                   |      name of the company|\n",
    "|COMPANY_STATUS                 |      status of the company|\n",
    "|COMPANY_CLASS                  |      class of the company|\n",
    "|COMPANY_CATEGORY               |      category of the company|\n",
    "|AUTHORIZED_CAPITAL             |      amount of authorized capital|\n",
    "|PAIDUP_CAPITAL                 |      amount paid|\n",
    "|DATE_OF_REGISTRATION           |     date of registration|\n",
    "|REGISTRAR_OF_COMPANIES         |      registrar of the company|\n",
    "|PRINCIPAL_BUSINESS_ACTIVITY    |    principal business activity of company (target-variable)|\n",
    "|REGISTERED_OFFICE_ADDRESS      |      registered address of the company|\n",
    "|SUB_CATEGORY                   |      sub-category of the company|"
   ]
  },
  {
   "cell_type": "markdown",
   "metadata": {},
   "source": [
    "## 2.2 Mapping Problem to ML"
   ]
  },
  {
   "cell_type": "markdown",
   "metadata": {},
   "source": [
    "* It is multilabel classification problem. So a datapoint can have more than one tag at the same time."
   ]
  },
  {
   "cell_type": "markdown",
   "metadata": {},
   "source": [
    "### 2.2.1 Performance metric"
   ]
  },
  {
   "cell_type": "markdown",
   "metadata": {},
   "source": [
    "* **Micro-Averaged F1-Score (Mean F Score)** : The F1 score can be interpreted as a weighted average of the precision and recall, where an F1 score reaches its best value at 1 and worst score at 0. The relative contribution of precision and recall to the F1 score are equal.\n",
    "[LINK](http://scikit-learn.org/stable/modules/generated/sklearn.metrics.f1_score.html)"
   ]
  },
  {
   "cell_type": "markdown",
   "metadata": {},
   "source": [
    "# 3. EDA"
   ]
  },
  {
   "cell_type": "markdown",
   "metadata": {},
   "source": [
    "**Importing the libraries**"
   ]
  },
  {
   "cell_type": "code",
   "execution_count": 1,
   "metadata": {},
   "outputs": [],
   "source": [
    "import numpy as np\n",
    "import pandas as pd\n",
    "import matplotlib.pyplot as plt\n",
    "import seaborn as sns\n",
    "\n",
    "from sklearn.feature_extraction.text import CountVectorizer\n",
    "from scipy.sparse import hstack\n",
    "from nltk.corpus import stopwords\n",
    "import re,os, random\n",
    "from sklearn.metrics import f1_score\n",
    "\n",
    "from sklearn.multiclass import OneVsRestClassifier\n",
    "from sklearn.model_selection import RandomizedSearchCV, GridSearchCV\n",
    "from sklearn.naive_bayes import MultinomialNB\n",
    "from sklearn.linear_model import LogisticRegression\n",
    "from sklearn.svm import SVC\n",
    "from sklearn.ensemble import RandomForestClassifier\n",
    "\n",
    "StopWords = set(stopwords.words('english'))"
   ]
  },
  {
   "cell_type": "markdown",
   "metadata": {},
   "source": [
    "**Loading the dataset**"
   ]
  },
  {
   "cell_type": "code",
   "execution_count": 2,
   "metadata": {},
   "outputs": [
    {
     "name": "stdout",
     "output_type": "stream",
     "text": [
      "(20000, 12) \n",
      "\n",
      "Null in the dataset:\n",
      " CORPORATE_IDENTIFICATION_NUMBER      0\n",
      "COMPANY_NAME                         0\n",
      "COMPANY_STATUS                       0\n",
      "COMPANY_CLASS                        0\n",
      "COMPANY_CATEGORY                     0\n",
      "AUTHORIZED_CAPITAL                   0\n",
      "PAIDUP_CAPITAL                     154\n",
      "DATE_OF_REGISTRATION                51\n",
      "REGISTRAR_OF_COMPANIES               0\n",
      "PRINCIPAL_BUSINESS_ACTIVITY        215\n",
      "REGISTERED_OFFICE_ADDRESS            1\n",
      "SUB_CATEGORY                         2\n",
      "dtype: int64\n",
      "\n",
      "Total Null value in the dataset:  423\n"
     ]
    },
    {
     "data": {
      "text/html": [
       "<div>\n",
       "<style scoped>\n",
       "    .dataframe tbody tr th:only-of-type {\n",
       "        vertical-align: middle;\n",
       "    }\n",
       "\n",
       "    .dataframe tbody tr th {\n",
       "        vertical-align: top;\n",
       "    }\n",
       "\n",
       "    .dataframe thead th {\n",
       "        text-align: right;\n",
       "    }\n",
       "</style>\n",
       "<table border=\"1\" class=\"dataframe\">\n",
       "  <thead>\n",
       "    <tr style=\"text-align: right;\">\n",
       "      <th></th>\n",
       "      <th>CORPORATE_IDENTIFICATION_NUMBER</th>\n",
       "      <th>COMPANY_NAME</th>\n",
       "      <th>COMPANY_STATUS</th>\n",
       "      <th>COMPANY_CLASS</th>\n",
       "      <th>COMPANY_CATEGORY</th>\n",
       "      <th>AUTHORIZED_CAPITAL</th>\n",
       "      <th>PAIDUP_CAPITAL</th>\n",
       "      <th>DATE_OF_REGISTRATION</th>\n",
       "      <th>REGISTRAR_OF_COMPANIES</th>\n",
       "      <th>PRINCIPAL_BUSINESS_ACTIVITY</th>\n",
       "      <th>REGISTERED_OFFICE_ADDRESS</th>\n",
       "      <th>SUB_CATEGORY</th>\n",
       "    </tr>\n",
       "  </thead>\n",
       "  <tbody>\n",
       "    <tr>\n",
       "      <th>0</th>\n",
       "      <td>U55101AN2007PTC000082</td>\n",
       "      <td>GOLDEN REST ROOM PRIVATE LIMITED</td>\n",
       "      <td>ACTIVE</td>\n",
       "      <td>Private</td>\n",
       "      <td>Company Limited by Shares</td>\n",
       "      <td>1000000</td>\n",
       "      <td>100000</td>\n",
       "      <td>26-03-2007</td>\n",
       "      <td>RoC-Chennai</td>\n",
       "      <td>Trading</td>\n",
       "      <td>Golden Rest room Prem Nagar Port Blair Andaman...</td>\n",
       "      <td>Indian Non-Government Company</td>\n",
       "    </tr>\n",
       "    <tr>\n",
       "      <th>1</th>\n",
       "      <td>U01111AN2007PTC000087</td>\n",
       "      <td>ANDAMAN AGRO PRIVATE LIMITED</td>\n",
       "      <td>ACTIVE</td>\n",
       "      <td>Private</td>\n",
       "      <td>Company Limited by Shares</td>\n",
       "      <td>2000000</td>\n",
       "      <td>100000</td>\n",
       "      <td>08/06/07 0:00</td>\n",
       "      <td>RoC-Chennai</td>\n",
       "      <td>Agriculture and Allied Activities</td>\n",
       "      <td>Sadha Bhavan Gurudwara Lane Port Blair Andaman...</td>\n",
       "      <td>Indian Non-Government Company</td>\n",
       "    </tr>\n",
       "    <tr>\n",
       "      <th>2</th>\n",
       "      <td>U45201AN2007PTC000086</td>\n",
       "      <td>ANDAMAN NIRMAN PRIVATE LIMITED</td>\n",
       "      <td>ACTIVE</td>\n",
       "      <td>Private</td>\n",
       "      <td>Company Limited by Shares</td>\n",
       "      <td>2000000</td>\n",
       "      <td>2000000</td>\n",
       "      <td>07/11/07 0:00</td>\n",
       "      <td>RoC-Chennai</td>\n",
       "      <td>Construction</td>\n",
       "      <td>Junglighat Port Blair Andaman and Nicobar Isla...</td>\n",
       "      <td>Indian Non-Government Company</td>\n",
       "    </tr>\n",
       "    <tr>\n",
       "      <th>3</th>\n",
       "      <td>U62200AN2007PTC000227</td>\n",
       "      <td>ABLE AVIATION (INDIA) PRIVATE LIMITED</td>\n",
       "      <td>ACTIVE</td>\n",
       "      <td>Private</td>\n",
       "      <td>Company Limited by Shares</td>\n",
       "      <td>20000000</td>\n",
       "      <td>10000000</td>\n",
       "      <td>20-09-2007</td>\n",
       "      <td>RoC-Chennai</td>\n",
       "      <td>Transport, storage and Communications</td>\n",
       "      <td>HOUSE NO.M.B-210, PART-II, NEAR INCOME TAX OFF...</td>\n",
       "      <td>Indian Non-Government Company</td>\n",
       "    </tr>\n",
       "    <tr>\n",
       "      <th>4</th>\n",
       "      <td>U52190AN1996PTC000053</td>\n",
       "      <td>IMPERIAL AGENCIES PRIVATE LIMITED</td>\n",
       "      <td>ACTIVE</td>\n",
       "      <td>Private</td>\n",
       "      <td>Company Limited by Shares</td>\n",
       "      <td>2500000</td>\n",
       "      <td>2500000</td>\n",
       "      <td>07/10/96 0:00</td>\n",
       "      <td>RoC-Chennai</td>\n",
       "      <td>Trading</td>\n",
       "      <td>2 Middle Point Port Blair Andaman and Nicobar ...</td>\n",
       "      <td>Indian Non-Government Company</td>\n",
       "    </tr>\n",
       "  </tbody>\n",
       "</table>\n",
       "</div>"
      ],
      "text/plain": [
       "  CORPORATE_IDENTIFICATION_NUMBER                           COMPANY_NAME  \\\n",
       "0           U55101AN2007PTC000082       GOLDEN REST ROOM PRIVATE LIMITED   \n",
       "1           U01111AN2007PTC000087           ANDAMAN AGRO PRIVATE LIMITED   \n",
       "2           U45201AN2007PTC000086         ANDAMAN NIRMAN PRIVATE LIMITED   \n",
       "3           U62200AN2007PTC000227  ABLE AVIATION (INDIA) PRIVATE LIMITED   \n",
       "4           U52190AN1996PTC000053      IMPERIAL AGENCIES PRIVATE LIMITED   \n",
       "\n",
       "  COMPANY_STATUS COMPANY_CLASS           COMPANY_CATEGORY AUTHORIZED_CAPITAL  \\\n",
       "0         ACTIVE       Private  Company Limited by Shares            1000000   \n",
       "1         ACTIVE       Private  Company Limited by Shares            2000000   \n",
       "2         ACTIVE       Private  Company Limited by Shares            2000000   \n",
       "3         ACTIVE       Private  Company Limited by Shares           20000000   \n",
       "4         ACTIVE       Private  Company Limited by Shares            2500000   \n",
       "\n",
       "  PAIDUP_CAPITAL DATE_OF_REGISTRATION REGISTRAR_OF_COMPANIES  \\\n",
       "0         100000           26-03-2007            RoC-Chennai   \n",
       "1         100000        08/06/07 0:00            RoC-Chennai   \n",
       "2        2000000        07/11/07 0:00            RoC-Chennai   \n",
       "3       10000000           20-09-2007            RoC-Chennai   \n",
       "4        2500000        07/10/96 0:00            RoC-Chennai   \n",
       "\n",
       "             PRINCIPAL_BUSINESS_ACTIVITY  \\\n",
       "0                                Trading   \n",
       "1      Agriculture and Allied Activities   \n",
       "2                           Construction   \n",
       "3  Transport, storage and Communications   \n",
       "4                                Trading   \n",
       "\n",
       "                           REGISTERED_OFFICE_ADDRESS  \\\n",
       "0  Golden Rest room Prem Nagar Port Blair Andaman...   \n",
       "1  Sadha Bhavan Gurudwara Lane Port Blair Andaman...   \n",
       "2  Junglighat Port Blair Andaman and Nicobar Isla...   \n",
       "3  HOUSE NO.M.B-210, PART-II, NEAR INCOME TAX OFF...   \n",
       "4  2 Middle Point Port Blair Andaman and Nicobar ...   \n",
       "\n",
       "                    SUB_CATEGORY  \n",
       "0  Indian Non-Government Company  \n",
       "1  Indian Non-Government Company  \n",
       "2  Indian Non-Government Company  \n",
       "3  Indian Non-Government Company  \n",
       "4  Indian Non-Government Company  "
      ]
     },
     "execution_count": 2,
     "metadata": {},
     "output_type": "execute_result"
    }
   ],
   "source": [
    "df = pd.read_csv(\"./Q2_data_set.csv\")\n",
    "print(df.shape,\"\\n\")\n",
    "print(\"Null in the dataset:\\n\",df.isnull().sum(axis=0))\n",
    "print(\"\\nTotal Null value in the dataset: \", df.isnull().sum(axis=0).sum())\n",
    "df.head()"
   ]
  },
  {
   "cell_type": "markdown",
   "metadata": {},
   "source": [
    "* But in some columns there are no data and it is represented by `-`. Let's find those columns and number of such rows in that column."
   ]
  },
  {
   "cell_type": "code",
   "execution_count": 3,
   "metadata": {
    "scrolled": false
   },
   "outputs": [
    {
     "name": "stdout",
     "output_type": "stream",
     "text": [
      "Column Name                           `-` count       Null/NaN/None Count            Total\n",
      "\n",
      "CORPORATE_IDENTIFICATION_NUMBER          0                     0                       0\n",
      "COMPANY_NAME                             0                     0                       0\n",
      "COMPANY_STATUS                           0                     0                       0\n",
      "COMPANY_CLASS                            0                     0                       0\n",
      "COMPANY_CATEGORY                         0                     0                       0\n",
      "AUTHORIZED_CAPITAL                      75                     0                      75\n",
      "PAIDUP_CAPITAL                        3138                   154                    3292\n",
      "DATE_OF_REGISTRATION                     0                    51                      51\n",
      "REGISTRAR_OF_COMPANIES                   0                     0                       0\n",
      "PRINCIPAL_BUSINESS_ACTIVITY              0                   215                     215\n",
      "REGISTERED_OFFICE_ADDRESS                0                     1                       1\n",
      "SUB_CATEGORY                             0                     2                       2\n",
      "\n",
      "Total numeber of unknown values in the dataset are:  3636\n"
     ]
    }
   ],
   "source": [
    "def unknown_count(df):\n",
    "    print(\"Column Name\", \" \"*(40-15), \"`-` count\", \" \"*(5), \"Null/NaN/None Count\", \" \"*10, \"Total\")\n",
    "    print()\n",
    "    Total = 0\n",
    "    for col in df.columns:\n",
    "        cnt = 0\n",
    "        for val in df[col].values:\n",
    "            if val==\"-\":\n",
    "                cnt+=1\n",
    "        null_cnt = df[col].isnull().sum()\n",
    "        total = cnt+null_cnt\n",
    "        print(col, \" \"*(40-len(col)-len(str(cnt))), cnt, \n",
    "              \" \"*(20-len(str(null_cnt))), null_cnt,\n",
    "              \" \"*(22-len(str(total))), total)\n",
    "        Total += total\n",
    "    print(\"\\nTotal numeber of unknown values in the dataset are: \",Total)\n",
    "unknown_count(df)"
   ]
  },
  {
   "cell_type": "markdown",
   "metadata": {},
   "source": [
    "There are 3636 Unknow values in the dataset.\n",
    "* Let's see the `AUTHORIZED_CAPITAL` and `PAIDUP_CAPITAL` columns first.\n",
    "* There are only two rows where `SUB_CATEGORY` is NaN, so drop those two rows."
   ]
  },
  {
   "cell_type": "markdown",
   "metadata": {},
   "source": [
    "**AUTHORIZED_CAPITAL**"
   ]
  },
  {
   "cell_type": "code",
   "execution_count": 4,
   "metadata": {},
   "outputs": [
    {
     "data": {
      "image/png": "[encoded data removed]",
      "text/plain": [
       "<Figure size 1296x432 with 2 Axes>"
      ]
     },
     "metadata": {
      "needs_background": "light"
     },
     "output_type": "display_data"
    },
    {
     "name": "stdout",
     "output_type": "stream",
     "text": [
      "Quantiles are: \n",
      "1th Percentile: 100,000.0\n",
      "25th Percentile: 100,000.0\n",
      "50th Percentile: 500,000.0\n",
      "75th Percentile: 2,500,000.0\n",
      "100th Percentile: 100,000,000,000.0\n",
      "\n",
      "Percentiles are: (90-100)\n",
      "90th Percentile: 20,000,000.0\n",
      "91th Percentile: 20,000,000.0\n",
      "92th Percentile: 30,000,000.0\n",
      "93th Percentile: 35,000,000.0\n",
      "94th Percentile: 50,000,000.0\n",
      "95th Percentile: 50,000,000.0\n",
      "96th Percentile: 75,000,000.0\n",
      "97th Percentile: 100,000,000.0\n",
      "98th Percentile: 160,000,000.0\n",
      "99th Percentile: 367,599,999.99998397\n",
      "100th Percentile: 100,000,000,000.0\n",
      "\n",
      "Percentiles are: (99-100)\n",
      "99.1th Percentile: 400,000,000.0\n",
      "99.2th Percentile: 483,040,000.0000009\n",
      "99.3th Percentile: 500,000,000.0\n",
      "99.4th Percentile: 600,000,000.0\n",
      "99.5th Percentile: 772,850,000.0000076\n",
      "99.6th Percentile: 1,000,000,000.0\n",
      "99.7th Percentile: 1,250,000,000.0\n",
      "99.8th Percentile: 2,732,159,999.999858\n",
      "99.9th Percentile: 6,076,000,000.000932\n",
      "100.0th Percentile: 100,000,000,000.0\n"
     ]
    }
   ],
   "source": [
    "indices = []\n",
    "for i in range(len(df)):\n",
    "    if df.loc[i, 'AUTHORIZED_CAPITAL'] == '-':\n",
    "        indices.append(i)\n",
    "ls = df[df[\"AUTHORIZED_CAPITAL\"].isnull()].index.tolist()\n",
    "indices.extend(ls)\n",
    "a = df[\"AUTHORIZED_CAPITAL\"].drop(index=indices).values\n",
    "a = a.astype(float)\n",
    "\n",
    "fig, (ax1,ax2) = plt.subplots(1,2, figsize=(18,6))\n",
    "fig.suptitle('AUTHORIZED_CAPITAL', fontsize=20)\n",
    "\n",
    "sns.boxplot(a, ax=ax1)\n",
    "ax1.set_title(\"Box-Plot\", fontsize=16)\n",
    "ax1.set_xlabel(\"value\", fontsize=14)\n",
    "ax1.set_ylabel(\"AUTHORIZED_CAPITAL\", fontsize=14)\n",
    "\n",
    "sns.distplot(a, ax=ax2)\n",
    "ax1.set_title(\"Distribution-Plot\", fontsize=16)\n",
    "ax1.set_xlabel(\"AUTHORIZED_CAPITAL\", fontsize=14)\n",
    "plt.show()\n",
    "\n",
    "print(\"Quantiles are: \")\n",
    "for i in [1,25,50,75,100]:\n",
    "    print(\"{}th Percentile: {:,}\".format(i, np.percentile(a, i)))\n",
    "    \n",
    "print(\"\\nPercentiles are: (90-100)\")\n",
    "for i in range(90,101,1):\n",
    "    print(\"{}th Percentile: {:,}\".format(i, np.percentile(a, i)))\n",
    "    \n",
    "print(\"\\nPercentiles are: (99-100)\")\n",
    "for i in range(1,11,1):\n",
    "    print(\"{}th Percentile: {:,}\".format(i/10+99, np.percentile(a, i/10+99)))"
   ]
  },
  {
   "cell_type": "code",
   "execution_count": 5,
   "metadata": {},
   "outputs": [
    {
     "data": {
      "image/png": "[encoded data removed]",
      "text/plain": [
       "<Figure size 432x288 with 1 Axes>"
      ]
     },
     "metadata": {
      "needs_background": "light"
     },
     "output_type": "display_data"
    }
   ],
   "source": [
    "a.sort()\n",
    "sns.distplot(a[10:19000])\n",
    "plt.show()"
   ]
  },
  {
   "cell_type": "markdown",
   "metadata": {},
   "source": [
    "* Above plot is highly skewed (left/negative).\n",
    "* It's value is varies from 100,000 to 100,000,000,000.\n",
    "* I am going to drop this feature."
   ]
  },
  {
   "cell_type": "markdown",
   "metadata": {},
   "source": [
    "**PAIDUP_CAPITAL**"
   ]
  },
  {
   "cell_type": "code",
   "execution_count": 6,
   "metadata": {},
   "outputs": [
    {
     "data": {
      "image/png": "[encoded data removed]",
      "text/plain": [
       "<Figure size 1296x432 with 2 Axes>"
      ]
     },
     "metadata": {
      "needs_background": "light"
     },
     "output_type": "display_data"
    },
    {
     "name": "stdout",
     "output_type": "stream",
     "text": [
      "Quantiles are: \n",
      "1th Percentile: 300.0\n",
      "25th Percentile: 100,000.0\n",
      "50th Percentile: 100,000.0\n",
      "75th Percentile: 1,394,750.0\n",
      "100th Percentile: 56,898,462,000.0\n",
      "\n",
      "Percentiles are: (90-100)\n",
      "90th Percentile: 13,907,540.000000035\n",
      "91th Percentile: 16,775,809.000000011\n",
      "92th Percentile: 20,062,559.200000003\n",
      "93th Percentile: 26,750,375.000000037\n",
      "94th Percentile: 35,000,000.0\n",
      "95th Percentile: 45,252,594.99999999\n",
      "96th Percentile: 60,000,000.0\n",
      "97th Percentile: 86,404,727.99999982\n",
      "98th Percentile: 137,104,288.64000022\n",
      "99th Percentile: 299,955,900.0000002\n",
      "100th Percentile: 56,898,462,000.0\n",
      "\n",
      "Percentiles are: (99-100)\n",
      "99.1th Percentile: 326,888,316.6899999\n",
      "99.2th Percentile: 357,875,944.280003\n",
      "99.3th Percentile: 401,077,226.7299939\n",
      "99.4th Percentile: 484,611,460.0000006\n",
      "99.5th Percentile: 561,732,125.0000006\n",
      "99.6th Percentile: 757,321,983.9999974\n",
      "99.7th Percentile: 999,889,465.2900008\n",
      "99.8th Percentile: 2,094,542,159.619905\n",
      "99.9th Percentile: 4,473,949,464.090018\n",
      "100.0th Percentile: 56,898,462,000.0\n"
     ]
    }
   ],
   "source": [
    "indices = []\n",
    "for i in range(len(df)):\n",
    "    if df.loc[i, 'PAIDUP_CAPITAL'] == '-':\n",
    "        indices.append(i)\n",
    "ls = df[df[\"PAIDUP_CAPITAL\"].isnull()].index.tolist()\n",
    "indices.extend(ls)\n",
    "a = df[\"PAIDUP_CAPITAL\"].drop(index=indices).values\n",
    "a = a.astype(float)\n",
    "\n",
    "fig, (ax1,ax2) = plt.subplots(1,2, figsize=(18,6))\n",
    "fig.suptitle('PAIDUP_CAPITAL', fontsize=20)\n",
    "\n",
    "sns.boxplot(a, ax=ax1)\n",
    "ax1.set_title(\"Box-Plot\", fontsize=16)\n",
    "ax1.set_xlabel(\"value\", fontsize=14)\n",
    "ax1.set_ylabel(\"PAIDUP_CAPITAL\", fontsize=14)\n",
    "\n",
    "sns.distplot(a, ax=ax2)\n",
    "ax1.set_title(\"Distribution-Plot\", fontsize=16)\n",
    "ax1.set_xlabel(\"PAIDUP_CAPITAL\", fontsize=14)\n",
    "plt.show()\n",
    "\n",
    "print(\"Quantiles are: \")\n",
    "for i in [1,25,50,75,100]:\n",
    "    print(\"{}th Percentile: {:,}\".format(i, np.percentile(a, i)))\n",
    "    \n",
    "print(\"\\nPercentiles are: (90-100)\")\n",
    "for i in range(90,101,1):\n",
    "    print(\"{}th Percentile: {:,}\".format(i, np.percentile(a, i)))\n",
    "    \n",
    "print(\"\\nPercentiles are: (99-100)\")\n",
    "for i in range(1,11,1):\n",
    "    print(\"{}th Percentile: {:,}\".format(i/10+99, np.percentile(a, i/10+99)))"
   ]
  },
  {
   "cell_type": "code",
   "execution_count": 7,
   "metadata": {},
   "outputs": [
    {
     "data": {
      "image/png": "[encoded data removed]",
      "text/plain": [
       "<Figure size 432x288 with 1 Axes>"
      ]
     },
     "metadata": {
      "needs_background": "light"
     },
     "output_type": "display_data"
    }
   ],
   "source": [
    "a.sort()\n",
    "sns.distplot(a[10:15000])\n",
    "plt.show()"
   ]
  },
  {
   "cell_type": "markdown",
   "metadata": {},
   "source": [
    "* Above plot is highly skewed (left/negative).\n",
    "* It's value is varies from 300 to 56,898,462,000.\n",
    "* I am going to drop this feature."
   ]
  },
  {
   "cell_type": "markdown",
   "metadata": {},
   "source": [
    "**Drop Unwanted Columns and rows**\n",
    "\n",
    "Let's drop the `CORPORATE_IDENTIFICATION_NUMBER`, `REGISTERED_OFFICE_ADDRESS`, `PAIDUP_CAPITAL`, and `AUTHORIZED_CAPITAL` column because it is NOT useful column."
   ]
  },
  {
   "cell_type": "code",
   "execution_count": 8,
   "metadata": {},
   "outputs": [
    {
     "name": "stdout",
     "output_type": "stream",
     "text": [
      "Column Name                           `-` count       Null/NaN/None Count            Total\n",
      "\n",
      "COMPANY_NAME                             0                     0                       0\n",
      "COMPANY_STATUS                           0                     0                       0\n",
      "COMPANY_CLASS                            0                     0                       0\n",
      "COMPANY_CATEGORY                         0                     0                       0\n",
      "DATE_OF_REGISTRATION                     0                    51                      51\n",
      "REGISTRAR_OF_COMPANIES                   0                     0                       0\n",
      "PRINCIPAL_BUSINESS_ACTIVITY              0                   215                     215\n",
      "SUB_CATEGORY                             0                     0                       0\n",
      "\n",
      "Total numeber of unknown values in the dataset are:  266\n"
     ]
    }
   ],
   "source": [
    "df.drop([\"CORPORATE_IDENTIFICATION_NUMBER\", \"REGISTERED_OFFICE_ADDRESS\", \"PAIDUP_CAPITAL\", \n",
    "         \"AUTHORIZED_CAPITAL\"], axis = 1, inplace=True)\n",
    "df = df[~df[\"SUB_CATEGORY\"].isnull()]\n",
    "unknown_count(df)"
   ]
  },
  {
   "cell_type": "markdown",
   "metadata": {},
   "source": [
    "* Our target column for this task is `PRINCIPAL_BUSINESS_ACTIVITY` and there 215 such datapoints where there is no value. So make such datapoints as future datapoints.\n",
    "* And use remaining dataset for building and validation of the model. "
   ]
  },
  {
   "cell_type": "code",
   "execution_count": 9,
   "metadata": {},
   "outputs": [
    {
     "name": "stdout",
     "output_type": "stream",
     "text": [
      "Column Name                           `-` count       Null/NaN/None Count            Total\n",
      "\n",
      "COMPANY_NAME                             0                     0                       0\n",
      "COMPANY_STATUS                           0                     0                       0\n",
      "COMPANY_CLASS                            0                     0                       0\n",
      "COMPANY_CATEGORY                         0                     0                       0\n",
      "DATE_OF_REGISTRATION                     0                     1                       1\n",
      "REGISTRAR_OF_COMPANIES                   0                     0                       0\n",
      "PRINCIPAL_BUSINESS_ACTIVITY              0                     0                       0\n",
      "SUB_CATEGORY                             0                     0                       0\n",
      "\n",
      "Total numeber of unknown values in the dataset are:  1\n"
     ]
    }
   ],
   "source": [
    "future_df = df[df[\"PRINCIPAL_BUSINESS_ACTIVITY\"].isnull()]\n",
    "future_df.reset_index(drop=True, inplace=True)\n",
    "\n",
    "new_df = df[~df[\"PRINCIPAL_BUSINESS_ACTIVITY\"].isnull()]\n",
    "new_df.reset_index(drop=True, inplace=True)\n",
    "\n",
    "unknown_count(new_df)"
   ]
  },
  {
   "cell_type": "markdown",
   "metadata": {},
   "source": [
    "* Drop the row where is condition matches."
   ]
  },
  {
   "cell_type": "code",
   "execution_count": 10,
   "metadata": {},
   "outputs": [
    {
     "name": "stdout",
     "output_type": "stream",
     "text": [
      "Column Name                           `-` count       Null/NaN/None Count            Total\n",
      "\n",
      "COMPANY_NAME                             0                     0                       0\n",
      "COMPANY_STATUS                           0                     0                       0\n",
      "COMPANY_CLASS                            0                     0                       0\n",
      "COMPANY_CATEGORY                         0                     0                       0\n",
      "DATE_OF_REGISTRATION                     0                     0                       0\n",
      "REGISTRAR_OF_COMPANIES                   0                     0                       0\n",
      "PRINCIPAL_BUSINESS_ACTIVITY              0                     0                       0\n",
      "SUB_CATEGORY                             0                     0                       0\n",
      "\n",
      "Total numeber of unknown values in the dataset are:  0\n",
      "Now, Shape of data:  (19779, 8)\n"
     ]
    },
    {
     "data": {
      "text/html": [
       "<div>\n",
       "<style scoped>\n",
       "    .dataframe tbody tr th:only-of-type {\n",
       "        vertical-align: middle;\n",
       "    }\n",
       "\n",
       "    .dataframe tbody tr th {\n",
       "        vertical-align: top;\n",
       "    }\n",
       "\n",
       "    .dataframe thead th {\n",
       "        text-align: right;\n",
       "    }\n",
       "</style>\n",
       "<table border=\"1\" class=\"dataframe\">\n",
       "  <thead>\n",
       "    <tr style=\"text-align: right;\">\n",
       "      <th></th>\n",
       "      <th>COMPANY_NAME</th>\n",
       "      <th>COMPANY_STATUS</th>\n",
       "      <th>COMPANY_CLASS</th>\n",
       "      <th>COMPANY_CATEGORY</th>\n",
       "      <th>DATE_OF_REGISTRATION</th>\n",
       "      <th>REGISTRAR_OF_COMPANIES</th>\n",
       "      <th>PRINCIPAL_BUSINESS_ACTIVITY</th>\n",
       "      <th>SUB_CATEGORY</th>\n",
       "    </tr>\n",
       "  </thead>\n",
       "  <tbody>\n",
       "    <tr>\n",
       "      <th>0</th>\n",
       "      <td>GOLDEN REST ROOM PRIVATE LIMITED</td>\n",
       "      <td>ACTIVE</td>\n",
       "      <td>Private</td>\n",
       "      <td>Company Limited by Shares</td>\n",
       "      <td>26-03-2007</td>\n",
       "      <td>RoC-Chennai</td>\n",
       "      <td>Trading</td>\n",
       "      <td>Indian Non-Government Company</td>\n",
       "    </tr>\n",
       "    <tr>\n",
       "      <th>1</th>\n",
       "      <td>ANDAMAN AGRO PRIVATE LIMITED</td>\n",
       "      <td>ACTIVE</td>\n",
       "      <td>Private</td>\n",
       "      <td>Company Limited by Shares</td>\n",
       "      <td>08/06/07 0:00</td>\n",
       "      <td>RoC-Chennai</td>\n",
       "      <td>Agriculture and Allied Activities</td>\n",
       "      <td>Indian Non-Government Company</td>\n",
       "    </tr>\n",
       "    <tr>\n",
       "      <th>2</th>\n",
       "      <td>ANDAMAN NIRMAN PRIVATE LIMITED</td>\n",
       "      <td>ACTIVE</td>\n",
       "      <td>Private</td>\n",
       "      <td>Company Limited by Shares</td>\n",
       "      <td>07/11/07 0:00</td>\n",
       "      <td>RoC-Chennai</td>\n",
       "      <td>Construction</td>\n",
       "      <td>Indian Non-Government Company</td>\n",
       "    </tr>\n",
       "    <tr>\n",
       "      <th>3</th>\n",
       "      <td>ABLE AVIATION (INDIA) PRIVATE LIMITED</td>\n",
       "      <td>ACTIVE</td>\n",
       "      <td>Private</td>\n",
       "      <td>Company Limited by Shares</td>\n",
       "      <td>20-09-2007</td>\n",
       "      <td>RoC-Chennai</td>\n",
       "      <td>Transport, storage and Communications</td>\n",
       "      <td>Indian Non-Government Company</td>\n",
       "    </tr>\n",
       "    <tr>\n",
       "      <th>4</th>\n",
       "      <td>IMPERIAL AGENCIES PRIVATE LIMITED</td>\n",
       "      <td>ACTIVE</td>\n",
       "      <td>Private</td>\n",
       "      <td>Company Limited by Shares</td>\n",
       "      <td>07/10/96 0:00</td>\n",
       "      <td>RoC-Chennai</td>\n",
       "      <td>Trading</td>\n",
       "      <td>Indian Non-Government Company</td>\n",
       "    </tr>\n",
       "  </tbody>\n",
       "</table>\n",
       "</div>"
      ],
      "text/plain": [
       "                            COMPANY_NAME COMPANY_STATUS COMPANY_CLASS  \\\n",
       "0       GOLDEN REST ROOM PRIVATE LIMITED         ACTIVE       Private   \n",
       "1           ANDAMAN AGRO PRIVATE LIMITED         ACTIVE       Private   \n",
       "2         ANDAMAN NIRMAN PRIVATE LIMITED         ACTIVE       Private   \n",
       "3  ABLE AVIATION (INDIA) PRIVATE LIMITED         ACTIVE       Private   \n",
       "4      IMPERIAL AGENCIES PRIVATE LIMITED         ACTIVE       Private   \n",
       "\n",
       "            COMPANY_CATEGORY DATE_OF_REGISTRATION REGISTRAR_OF_COMPANIES  \\\n",
       "0  Company Limited by Shares           26-03-2007            RoC-Chennai   \n",
       "1  Company Limited by Shares        08/06/07 0:00            RoC-Chennai   \n",
       "2  Company Limited by Shares        07/11/07 0:00            RoC-Chennai   \n",
       "3  Company Limited by Shares           20-09-2007            RoC-Chennai   \n",
       "4  Company Limited by Shares        07/10/96 0:00            RoC-Chennai   \n",
       "\n",
       "             PRINCIPAL_BUSINESS_ACTIVITY                   SUB_CATEGORY  \n",
       "0                                Trading  Indian Non-Government Company  \n",
       "1      Agriculture and Allied Activities  Indian Non-Government Company  \n",
       "2                           Construction  Indian Non-Government Company  \n",
       "3  Transport, storage and Communications  Indian Non-Government Company  \n",
       "4                                Trading  Indian Non-Government Company  "
      ]
     },
     "execution_count": 10,
     "metadata": {},
     "output_type": "execute_result"
    }
   ],
   "source": [
    "new_df = new_df[~new_df[\"DATE_OF_REGISTRATION\"].isnull()]\n",
    "new_df = new_df[~(new_df[\"DATE_OF_REGISTRATION\"] == \"#\"*255)] # there are 255 times `#` in this column,\n",
    "                                                              # so remove them\n",
    "\n",
    "new_df.reset_index(drop=True, inplace=True)\n",
    "unknown_count(new_df)\n",
    "\n",
    "print(\"Now, Shape of data: \", new_df.shape)\n",
    "new_df.head()"
   ]
  },
  {
   "cell_type": "markdown",
   "metadata": {},
   "source": [
    "### Tags (i.e. PRINCIPAL_BUSINESS_ACTIVITY) Analysis"
   ]
  },
  {
   "cell_type": "markdown",
   "metadata": {},
   "source": [
    "* Let's do some processing on column `PRINCIPAL_BUSINESS_ACTIVITY`. \n",
    "* e.g. 1. Convert `Agriculture and Allied Activities` into lowercase and then join them by `_`. So final result will be `agriculture_and_allied_activities`.\n",
    "* 2. `Transport, storage and Communications` into `transport storage_and_communications`."
   ]
  },
  {
   "cell_type": "code",
   "execution_count": 11,
   "metadata": {},
   "outputs": [
    {
     "data": {
      "text/html": [
       "<div>\n",
       "<style scoped>\n",
       "    .dataframe tbody tr th:only-of-type {\n",
       "        vertical-align: middle;\n",
       "    }\n",
       "\n",
       "    .dataframe tbody tr th {\n",
       "        vertical-align: top;\n",
       "    }\n",
       "\n",
       "    .dataframe thead th {\n",
       "        text-align: right;\n",
       "    }\n",
       "</style>\n",
       "<table border=\"1\" class=\"dataframe\">\n",
       "  <thead>\n",
       "    <tr style=\"text-align: right;\">\n",
       "      <th></th>\n",
       "      <th>COMPANY_NAME</th>\n",
       "      <th>COMPANY_STATUS</th>\n",
       "      <th>COMPANY_CLASS</th>\n",
       "      <th>COMPANY_CATEGORY</th>\n",
       "      <th>DATE_OF_REGISTRATION</th>\n",
       "      <th>REGISTRAR_OF_COMPANIES</th>\n",
       "      <th>PRINCIPAL_BUSINESS_ACTIVITY</th>\n",
       "      <th>SUB_CATEGORY</th>\n",
       "    </tr>\n",
       "  </thead>\n",
       "  <tbody>\n",
       "    <tr>\n",
       "      <th>0</th>\n",
       "      <td>GOLDEN REST ROOM PRIVATE LIMITED</td>\n",
       "      <td>ACTIVE</td>\n",
       "      <td>Private</td>\n",
       "      <td>Company Limited by Shares</td>\n",
       "      <td>26-03-2007</td>\n",
       "      <td>RoC-Chennai</td>\n",
       "      <td>trading</td>\n",
       "      <td>Indian Non-Government Company</td>\n",
       "    </tr>\n",
       "    <tr>\n",
       "      <th>1</th>\n",
       "      <td>ANDAMAN AGRO PRIVATE LIMITED</td>\n",
       "      <td>ACTIVE</td>\n",
       "      <td>Private</td>\n",
       "      <td>Company Limited by Shares</td>\n",
       "      <td>08/06/07 0:00</td>\n",
       "      <td>RoC-Chennai</td>\n",
       "      <td>agriculture_and_allied_activities</td>\n",
       "      <td>Indian Non-Government Company</td>\n",
       "    </tr>\n",
       "    <tr>\n",
       "      <th>2</th>\n",
       "      <td>ANDAMAN NIRMAN PRIVATE LIMITED</td>\n",
       "      <td>ACTIVE</td>\n",
       "      <td>Private</td>\n",
       "      <td>Company Limited by Shares</td>\n",
       "      <td>07/11/07 0:00</td>\n",
       "      <td>RoC-Chennai</td>\n",
       "      <td>construction</td>\n",
       "      <td>Indian Non-Government Company</td>\n",
       "    </tr>\n",
       "    <tr>\n",
       "      <th>3</th>\n",
       "      <td>ABLE AVIATION (INDIA) PRIVATE LIMITED</td>\n",
       "      <td>ACTIVE</td>\n",
       "      <td>Private</td>\n",
       "      <td>Company Limited by Shares</td>\n",
       "      <td>20-09-2007</td>\n",
       "      <td>RoC-Chennai</td>\n",
       "      <td>transport storage_and_communications</td>\n",
       "      <td>Indian Non-Government Company</td>\n",
       "    </tr>\n",
       "    <tr>\n",
       "      <th>4</th>\n",
       "      <td>IMPERIAL AGENCIES PRIVATE LIMITED</td>\n",
       "      <td>ACTIVE</td>\n",
       "      <td>Private</td>\n",
       "      <td>Company Limited by Shares</td>\n",
       "      <td>07/10/96 0:00</td>\n",
       "      <td>RoC-Chennai</td>\n",
       "      <td>trading</td>\n",
       "      <td>Indian Non-Government Company</td>\n",
       "    </tr>\n",
       "  </tbody>\n",
       "</table>\n",
       "</div>"
      ],
      "text/plain": [
       "                            COMPANY_NAME COMPANY_STATUS COMPANY_CLASS  \\\n",
       "0       GOLDEN REST ROOM PRIVATE LIMITED         ACTIVE       Private   \n",
       "1           ANDAMAN AGRO PRIVATE LIMITED         ACTIVE       Private   \n",
       "2         ANDAMAN NIRMAN PRIVATE LIMITED         ACTIVE       Private   \n",
       "3  ABLE AVIATION (INDIA) PRIVATE LIMITED         ACTIVE       Private   \n",
       "4      IMPERIAL AGENCIES PRIVATE LIMITED         ACTIVE       Private   \n",
       "\n",
       "            COMPANY_CATEGORY DATE_OF_REGISTRATION REGISTRAR_OF_COMPANIES  \\\n",
       "0  Company Limited by Shares           26-03-2007            RoC-Chennai   \n",
       "1  Company Limited by Shares        08/06/07 0:00            RoC-Chennai   \n",
       "2  Company Limited by Shares        07/11/07 0:00            RoC-Chennai   \n",
       "3  Company Limited by Shares           20-09-2007            RoC-Chennai   \n",
       "4  Company Limited by Shares        07/10/96 0:00            RoC-Chennai   \n",
       "\n",
       "            PRINCIPAL_BUSINESS_ACTIVITY                   SUB_CATEGORY  \n",
       "0                               trading  Indian Non-Government Company  \n",
       "1     agriculture_and_allied_activities  Indian Non-Government Company  \n",
       "2                          construction  Indian Non-Government Company  \n",
       "3  transport storage_and_communications  Indian Non-Government Company  \n",
       "4                               trading  Indian Non-Government Company  "
      ]
     },
     "execution_count": 11,
     "metadata": {},
     "output_type": "execute_result"
    }
   ],
   "source": [
    "def process_tags(tags):\n",
    "    # replace every special char (except `,` and `&`) with ''\n",
    "    tags = re.sub('[^a-zA-Z0-9,&\\n]', ' ', tags)\n",
    "    tags = tags.lower().split(\",\")\n",
    "    tags = [\"_\".join(i.split()) for i in tags]\n",
    "    return \" \".join(tags)\n",
    "new_df.loc[:,\"PRINCIPAL_BUSINESS_ACTIVITY\"] = new_df[\"PRINCIPAL_BUSINESS_ACTIVITY\"].apply(process_tags)\n",
    "\n",
    "new_df.head()"
   ]
  },
  {
   "cell_type": "markdown",
   "metadata": {},
   "source": [
    "**Most Frequent Tags**"
   ]
  },
  {
   "cell_type": "code",
   "execution_count": 12,
   "metadata": {},
   "outputs": [
    {
     "name": "stderr",
     "output_type": "stream",
     "text": [
      "/usr/local/lib/python3.6/dist-packages/sklearn/feature_extraction/text.py:507: UserWarning: The parameter 'token_pattern' will not be used since 'tokenizer' is not None'\n",
      "  warnings.warn(\"The parameter 'token_pattern' will not be used\"\n"
     ]
    }
   ],
   "source": [
    "from sklearn.feature_extraction.text import CountVectorizer\n",
    "vect = CountVectorizer(tokenizer = lambda x: x.split(\" \"), binary='true')\n",
    "vect.fit(new_df[\"PRINCIPAL_BUSINESS_ACTIVITY\"])\n",
    "\n",
    "my_dict = {key:0 for key in vect.vocabulary_.keys()}\n",
    "\n",
    "for row in new_df.iterrows():\n",
    "    tags = row[1][\"PRINCIPAL_BUSINESS_ACTIVITY\"]\n",
    "    for tag in tags.split(\" \"):\n",
    "        if my_dict.get(tag) is not None:\n",
    "            my_dict[tag] = my_dict.get(tag)+ 1"
   ]
  },
  {
   "cell_type": "markdown",
   "metadata": {},
   "source": [
    "**WordCloud Plot**"
   ]
  },
  {
   "cell_type": "code",
   "execution_count": 13,
   "metadata": {},
   "outputs": [
    {
     "data": {
      "image/png": "[encoded data removed]",
      "text/plain": [
       "<Figure size 1080x720 with 1 Axes>"
      ]
     },
     "metadata": {
      "needs_background": "light"
     },
     "output_type": "display_data"
    }
   ],
   "source": [
    "from wordcloud import WordCloud\n",
    "wordcloud = WordCloud(background_color='black',\n",
    "                      width= 1600, height= 800,\n",
    "                      min_font_size = 10).generate_from_frequencies(my_dict)\n",
    "fig = plt.figure(figsize=(15,10))\n",
    "plt.imshow(wordcloud)\n",
    "plt.axis('off')\n",
    "plt.tight_layout(pad=0)\n",
    "fig.savefig(\"tag.png\")\n",
    "plt.show()"
   ]
  },
  {
   "cell_type": "markdown",
   "metadata": {},
   "source": [
    "**The top 15 tags**"
   ]
  },
  {
   "cell_type": "code",
   "execution_count": 14,
   "metadata": {},
   "outputs": [
    {
     "data": {
      "image/png": "[encoded data removed]",
      "text/plain": [
       "<Figure size 576x720 with 1 Axes>"
      ]
     },
     "metadata": {
      "needs_background": "light"
     },
     "output_type": "display_data"
    }
   ],
   "source": [
    "cnt_tags = pd.DataFrame(my_dict.items(), columns = [\"tags\", \"count\"])\n",
    "cnt_tags.sort_values([\"count\"],  ascending=False, inplace=True)\n",
    "cnt_tags.reset_index(drop=True, inplace=True)\n",
    "\n",
    "plt.figure(figsize = (8,10))\n",
    "sns.barplot(x = 'count', y = 'tags', data = cnt_tags)\n",
    "plt.title('Frequency of tags', fontsize = 14)\n",
    "plt.xlabel('Count', fontsize = 12)\n",
    "plt.ylabel('Tags', fontsize = 12)\n",
    "plt.grid(1)\n",
    "plt.show()"
   ]
  },
  {
   "cell_type": "markdown",
   "metadata": {},
   "source": [
    "### **DATE_OF_REGISTRATION**"
   ]
  },
  {
   "cell_type": "markdown",
   "metadata": {},
   "source": [
    "**Convert `DATE_OF_REGISTRATION` into pandas `datetime` type.**"
   ]
  },
  {
   "cell_type": "code",
   "execution_count": 15,
   "metadata": {},
   "outputs": [
    {
     "data": {
      "text/plain": [
       "(19779, 8)"
      ]
     },
     "execution_count": 15,
     "metadata": {},
     "output_type": "execute_result"
    }
   ],
   "source": [
    "def process_datetime(x):\n",
    "    x = x.split(\" \")[0].replace(\"-\", \"/\") #to keep dd/mm/yy\n",
    "    year = int(x.split(\"/\")[2])\n",
    "    if year<2000 and year<20:\n",
    "        year = 2000+year\n",
    "    elif year>=20 and year<100:\n",
    "        year = 1900+year\n",
    "    x = x.split(\"/\")\n",
    "    x.pop(2)\n",
    "    x.append(str(year))\n",
    "    return \"/\".join(x)\n",
    "\n",
    "new_df[\"DATE_OF_REGISTRATION\"] = new_df[\"DATE_OF_REGISTRATION\"].apply(process_datetime)\n",
    "new_df[\"DATE_OF_REGISTRATION\"] = pd.to_datetime(new_df['DATE_OF_REGISTRATION'], format=\"%d/%m/%Y\")\n",
    "new_df.shape"
   ]
  },
  {
   "cell_type": "code",
   "execution_count": 16,
   "metadata": {
    "scrolled": true
   },
   "outputs": [],
   "source": [
    "a = new_df.groupby([\"DATE_OF_REGISTRATION\"])\\\n",
    "          .agg({'COMPANY_NAME': 'count'})\\\n",
    "         .reset_index()\\\n",
    "         .rename(columns={'COMPANY_NAME':'count'})\n",
    "a[\"year\"] = a[\"DATE_OF_REGISTRATION\"].dt.year\n",
    "a = a.groupby(\"year\").agg({\"count\":'sum'}).reset_index()"
   ]
  },
  {
   "cell_type": "code",
   "execution_count": 17,
   "metadata": {},
   "outputs": [
    {
     "data": {
      "image/png": "[encoded data removed]",
      "text/plain": [
       "<Figure size 1296x576 with 1 Axes>"
      ]
     },
     "metadata": {
      "needs_background": "light"
     },
     "output_type": "display_data"
    }
   ],
   "source": [
    "cnts = a[\"count\"].values\n",
    "labels = a[\"year\"].values\n",
    "x = np.arange(0,len(labels))  # the label locations\n",
    "width = 0.85  # the width of the bars\n",
    "\n",
    "fig, ax = plt.subplots(figsize = (18,8))\n",
    "rects1 = ax.bar(x+width, cnts, width)\n",
    "ax.set_title('Bar Plot', fontsize=18)\n",
    "ax.set_ylabel('count',  fontsize=16)\n",
    "ax.set_xlabel('Year',  fontsize=16)\n",
    "ax.set_xticks(x)\n",
    "ax.set_xticklabels(labels, rotation = 90,  fontsize=10)\n",
    "\n",
    "\n",
    "plt.show()"
   ]
  },
  {
   "cell_type": "markdown",
   "metadata": {},
   "source": [
    "* From above it can be seen that the number of registered company per year follow skewed (right) distribution.\n",
    "* There are very few companies per year before 1981.\n",
    "* Number of companies per year was on peak in 1997 and then again there was reduction till 2003.\n",
    "* After 2003 there is a large change in the number of companies per year."
   ]
  },
  {
   "cell_type": "markdown",
   "metadata": {},
   "source": [
    "# 4. **Time Based Split**\n",
    "* Use `DATE_OF_REGISTRATION` to split the data.\n",
    "* Let's take all datapoints before 2014 for training and from 2014 to reamiming data testing."
   ]
  },
  {
   "cell_type": "code",
   "execution_count": 18,
   "metadata": {},
   "outputs": [
    {
     "name": "stderr",
     "output_type": "stream",
     "text": [
      "/usr/local/lib/python3.6/dist-packages/pandas/core/frame.py:3940: SettingWithCopyWarning: \n",
      "A value is trying to be set on a copy of a slice from a DataFrame\n",
      "\n",
      "See the caveats in the documentation: http://pandas.pydata.org/pandas-docs/stable/indexing.html#indexing-view-versus-copy\n",
      "  errors=errors)\n"
     ]
    }
   ],
   "source": [
    "train_df = new_df[new_df[\"DATE_OF_REGISTRATION\"]<=\"2013/12/31\"]\n",
    "test_df  = new_df[new_df[\"DATE_OF_REGISTRATION\"]>\"2013/12/31\"]\n",
    "\n",
    "#now drop the `DATE_OF_REGISTRATION` column because it is no more needed.\n",
    "train_df.drop(['DATE_OF_REGISTRATION'], axis=1, inplace=True)\n",
    "test_df.drop(['DATE_OF_REGISTRATION'], axis=1, inplace=True)\n",
    "\n",
    "Y_train = train_df[\"PRINCIPAL_BUSINESS_ACTIVITY\"]\n",
    "Y_test  = test_df[\"PRINCIPAL_BUSINESS_ACTIVITY\"]"
   ]
  },
  {
   "cell_type": "markdown",
   "metadata": {},
   "source": [
    "**Converting Tags into binary vectors**"
   ]
  },
  {
   "cell_type": "code",
   "execution_count": 19,
   "metadata": {},
   "outputs": [
    {
     "name": "stdout",
     "output_type": "stream",
     "text": [
      "Y_train shape:  (17414, 25)\n",
      "Y_test shape:  (2365, 25)\n",
      "There are total 25 tags in the training dataset.\n"
     ]
    }
   ],
   "source": [
    "Y_train = vect.transform(Y_train)\n",
    "Y_test = vect.transform(Y_test)\n",
    "\n",
    "print(\"Y_train shape: \", Y_train.shape)\n",
    "print(\"Y_test shape: \", Y_test.shape)\n",
    "print(\"There are total {} tags in the training dataset.\".format(Y_train.shape[1]))"
   ]
  },
  {
   "cell_type": "markdown",
   "metadata": {},
   "source": [
    "### Processing the `Categorical` features\n",
    "1. 'COMPANY_STATUS',\n",
    "2. 'COMPANY_CLASS', \n",
    "* 'COMPANY_CATEGORY', \n",
    "* 'REGISTRAR_OF_COMPANIES',\n",
    "* 'SUB_CATEGORY'"
   ]
  },
  {
   "cell_type": "code",
   "execution_count": 20,
   "metadata": {},
   "outputs": [
    {
     "name": "stderr",
     "output_type": "stream",
     "text": [
      "/usr/local/lib/python3.6/dist-packages/pandas/core/indexing.py:635: SettingWithCopyWarning: \n",
      "A value is trying to be set on a copy of a slice from a DataFrame.\n",
      "Try using .loc[row_indexer,col_indexer] = value instead\n",
      "\n",
      "See the caveats in the documentation: http://pandas.pydata.org/pandas-docs/stable/indexing.html#indexing-view-versus-copy\n",
      "  self.obj[item_labels[indexer[info_axis]]] = value\n"
     ]
    },
    {
     "name": "stdout",
     "output_type": "stream",
     "text": [
      "Column Name                      #unique Values\n",
      "\n",
      "COMPANY_STATUS                            8\n",
      "COMPANY_CLASS                             2\n",
      "COMPANY_CATEGORY                          3\n",
      "REGISTRAR_OF_COMPANIES                    2\n",
      "SUB_CATEGORY                              7\n",
      "Total number of dimensions due to these columns:  22\n"
     ]
    }
   ],
   "source": [
    "def process_name(name):\n",
    "    name = name.lower()\n",
    "    # replace every special char with space\n",
    "    name = re.sub('[^a-zA-Z0-9\\n]', ' ', name)\n",
    "    # replace multiple spaces with single space\n",
    "    name = re.sub('\\s+',' ', name)\n",
    "    ls = []\n",
    "    for i in name.split():\n",
    "        if i not in StopWords:\n",
    "            ls.append(i)\n",
    "    return \" \".join(ls)\n",
    "\n",
    "train_df.loc[:, \"COMPANY_NAME\"] = train_df[\"COMPANY_NAME\"].apply(process_name)\n",
    "test_df.loc[:, \"COMPANY_NAME\"]  = test_df[\"COMPANY_NAME\"].apply(process_name)\n",
    "\n",
    "\n",
    "cols = ['COMPANY_STATUS', 'COMPANY_CLASS', 'COMPANY_CATEGORY', 'REGISTRAR_OF_COMPANIES', 'SUB_CATEGORY']\n",
    "for col in cols:\n",
    "    train_df.loc[:, col] = train_df[col].apply(lambda x: \"_\".join(x.lower().split( )))\n",
    "    test_df.loc[:, col]  = test_df[col].apply(lambda x: \"_\".join(x.lower().split( )))\n",
    "    \n",
    "total_features = 0\n",
    "print(\"Column Name\", \" \"*20, \"#unique Values\")\n",
    "print()\n",
    "for col in cols:\n",
    "    n = len(train_df[col].unique())\n",
    "    print(col, \" \"*(40-len(col)), n)\n",
    "    total_features += n\n",
    "print(\"Total number of dimensions due to these columns: \", total_features)"
   ]
  },
  {
   "cell_type": "markdown",
   "metadata": {},
   "source": [
    "### Vectorization"
   ]
  },
  {
   "cell_type": "code",
   "execution_count": 21,
   "metadata": {},
   "outputs": [],
   "source": [
    "cols = [\"COMPANY_NAME\"] + cols\n",
    "X_train = train_df[cols]\n",
    "X_test  = test_df[cols]\n",
    "\n",
    "vectorizer_dict = dict()\n",
    "tr = []\n",
    "te = []\n",
    "for col in X_train.columns:\n",
    "    if col != \"COMPANY_NAME\":\n",
    "        vectorizer = CountVectorizer(stop_words = \"english\", lowercase=True)\n",
    "        train = vectorizer.fit_transform(X_train[col])\n",
    "        test = vectorizer.transform(X_test[col])\n",
    "        vectorizer_dict[col] = vectorizer\n",
    "        tr.append(train)\n",
    "        te.append(test)\n",
    "    else:\n",
    "        vectorizer = CountVectorizer(stop_words = \"english\", lowercase=True,\n",
    "                                    max_features = 2500)\n",
    "        train = vectorizer.fit_transform(X_train[col])\n",
    "        test = vectorizer.transform(X_test[col])\n",
    "        vectorizer_dict[col] = vectorizer\n",
    "        tr.append(train)\n",
    "        te.append(test)"
   ]
  },
  {
   "cell_type": "markdown",
   "metadata": {},
   "source": [
    "### Stacking"
   ]
  },
  {
   "cell_type": "code",
   "execution_count": 22,
   "metadata": {},
   "outputs": [
    {
     "name": "stdout",
     "output_type": "stream",
     "text": [
      "Train X-shape: (17414, 2523) and Y-train shape: (17414, 25)\n",
      "Test X-shape: (2365, 2523) and Y-test shape: (2365, 25)\n"
     ]
    }
   ],
   "source": [
    "xtrain = hstack((tr[0], tr[1], tr[2], tr[3],tr[4],tr[5])).tocsr()\n",
    "xtest  = hstack((te[0], te[1], te[2], te[3],te[4],te[5])).tocsr()\n",
    "\n",
    "print(\"Train X-shape: {} and Y-train shape: {}\".format(xtrain.shape, Y_train.shape))\n",
    "print(\"Test X-shape: {} and Y-test shape: {}\".format(xtest.shape, Y_test.shape))"
   ]
  },
  {
   "cell_type": "markdown",
   "metadata": {},
   "source": [
    "# 5. ML Models "
   ]
  },
  {
   "cell_type": "markdown",
   "metadata": {},
   "source": [
    "## 5.1 Random Model (very poor model)"
   ]
  },
  {
   "cell_type": "markdown",
   "metadata": {},
   "source": [
    "* Let's make a random model and perforamnce of this model will be used as threshold. Any reasonable model must give better perfromance than this model."
   ]
  },
  {
   "cell_type": "code",
   "execution_count": 23,
   "metadata": {},
   "outputs": [
    {
     "name": "stdout",
     "output_type": "stream",
     "text": [
      "Train f1-score (micro): 0.0913\n",
      "Test f1-score (micro): 0.0850\n"
     ]
    }
   ],
   "source": [
    "Y_train_pred = np.zeros(Y_train.shape)\n",
    "Y_test_pred = np.zeros(Y_test.shape)\n",
    "d = Y_train.shape[1]\n",
    "\n",
    "for i in range(Y_train.shape[0]):\n",
    "    Y_train_pred[i] = np.random.randint(0,2,d)\n",
    "    \n",
    "for i in range(Y_test.shape[0]):\n",
    "    Y_test_pred[i] = np.random.randint(0,2,d)\n",
    "    \n",
    "print(\"Train f1-score (micro): {:.4f}\".format(f1_score(Y_train, Y_train_pred, average='micro')))\n",
    "print(\"Test f1-score (micro): {:.4f}\".format(f1_score(Y_test, Y_test_pred, average='micro')))"
   ]
  },
  {
   "cell_type": "markdown",
   "metadata": {},
   "source": [
    "* So any reasonable model must have f1-score greater than 0.09 for train and test both."
   ]
  },
  {
   "cell_type": "markdown",
   "metadata": {},
   "source": [
    "## 5.2 Naive Bayes ([MultiNomial](https://scikit-learn.org/stable/modules/generated/sklearn.naive_bayes.MultinomialNB.html#sklearn.naive_bayes.MultinomialNB))"
   ]
  },
  {
   "cell_type": "code",
   "execution_count": 58,
   "metadata": {},
   "outputs": [
    {
     "name": "stdout",
     "output_type": "stream",
     "text": [
      "Fitting 5 folds for each of 20 candidates, totalling 100 fits\n"
     ]
    },
    {
     "name": "stderr",
     "output_type": "stream",
     "text": [
      "[Parallel(n_jobs=-1)]: Using backend LokyBackend with 4 concurrent workers.\n",
      "[Parallel(n_jobs=-1)]: Done  42 tasks      | elapsed:    3.9s\n",
      "[Parallel(n_jobs=-1)]: Done 100 out of 100 | elapsed:    8.6s finished\n"
     ]
    },
    {
     "name": "stdout",
     "output_type": "stream",
     "text": [
      "Best validation f1-score (micro):  0.6219538631019924\n",
      "Best estimator:  OneVsRestClassifier(estimator=MultinomialNB(alpha=0.2, class_prior=None,\n",
      "                                            fit_prior=True),\n",
      "                    n_jobs=None)\n",
      "\n",
      "\n",
      "Training the best model....\n",
      "Train f1-score (micro): 0.7543\n",
      "Test f1-score (micro): 0.6233\n"
     ]
    }
   ],
   "source": [
    "from sklearn.naive_bayes import MultinomialNB\n",
    "# https://stackoverflow.com/a/12637528/12005970\n",
    "params = {\"estimator__alpha\":[i/10 for i in range(10)]+\n",
    "                             [i/100 for i in range(1,10)]+\n",
    "                             [10**i for i in range(-7,-3)]}\n",
    "\n",
    "est = OneVsRestClassifier(MultinomialNB())\n",
    "search = RandomizedSearchCV(est, params, n_iter=20,scoring='f1_micro', n_jobs = -1,\n",
    "                            cv=5, random_state = 42, verbose = 1)\n",
    "search.fit(xtrain, Y_train)\n",
    "\n",
    "print(\"Best validation f1-score (micro): \", search.best_score_)\n",
    "model = search.best_estimator_\n",
    "print(\"Best estimator: \", model)\n",
    "\n",
    "print(\"\\n\\nTraining the best model....\")\n",
    "model.fit(xtrain, Y_train)\n",
    "\n",
    "Y_train_pred = model.predict(xtrain)\n",
    "Y_test_pred  = model.predict(xtest)\n",
    "print(\"Train f1-score (micro): {:.4f}\".format(f1_score(Y_train, Y_train_pred, average='micro')))\n",
    "print(\"Test f1-score (micro): {:.4f}\".format(f1_score(Y_test, Y_test_pred, average='micro')))"
   ]
  },
  {
   "cell_type": "markdown",
   "metadata": {},
   "source": [
    "## 5.3 Logistic Regression"
   ]
  },
  {
   "cell_type": "code",
   "execution_count": 61,
   "metadata": {},
   "outputs": [
    {
     "name": "stdout",
     "output_type": "stream",
     "text": [
      "Fitting 5 folds for each of 20 candidates, totalling 100 fits\n"
     ]
    },
    {
     "name": "stderr",
     "output_type": "stream",
     "text": [
      "[Parallel(n_jobs=-1)]: Using backend LokyBackend with 4 concurrent workers.\n",
      "[Parallel(n_jobs=-1)]: Done  42 tasks      | elapsed:   37.9s\n",
      "[Parallel(n_jobs=-1)]: Done 100 out of 100 | elapsed:  3.5min finished\n"
     ]
    },
    {
     "name": "stdout",
     "output_type": "stream",
     "text": [
      "Best validation f1-score (micro):  0.6574137343599536\n",
      "Best estimator:  OneVsRestClassifier(estimator=LogisticRegression(C=9, class_weight=None,\n",
      "                                                 dual=False, fit_intercept=True,\n",
      "                                                 intercept_scaling=1,\n",
      "                                                 l1_ratio=None, max_iter=300,\n",
      "                                                 multi_class='auto',\n",
      "                                                 n_jobs=None, penalty='l2',\n",
      "                                                 random_state=None,\n",
      "                                                 solver='liblinear', tol=0.0001,\n",
      "                                                 verbose=0, warm_start=False),\n",
      "                    n_jobs=None)\n",
      "\n",
      "\n",
      "Training the best model....\n",
      "Train f1-score (micro): 0.8073\n",
      "Test f1-score (micro): 0.6084\n"
     ]
    }
   ],
   "source": [
    "params = {\"estimator__penalty\": [\"l1\", \"l2\", \"elasticnet’\"],\n",
    "          \"estimator__C\": [i/10 for i in range(10)]+[i/100 for i in range(1,10)]+\n",
    "                          [10**i for i in range(-7,-3)]+[i for i in range(1,10)]+\n",
    "                          [10**i for i in range(2,5)]}\n",
    "\n",
    "est = OneVsRestClassifier(LogisticRegression(solver = \"liblinear\", max_iter=300))\n",
    "search = RandomizedSearchCV(est, params, n_iter=20,scoring='f1_micro', n_jobs = -1,\n",
    "                            cv=5, random_state = 42, verbose = 1)\n",
    "search.fit(xtrain, Y_train)\n",
    "\n",
    "print(\"Best validation f1-score (micro): \", search.best_score_)\n",
    "model = search.best_estimator_\n",
    "print(\"Best estimator: \", model)\n",
    "\n",
    "print(\"\\n\\nTraining the best model....\")\n",
    "model.fit(xtrain, Y_train)\n",
    "\n",
    "Y_train_pred = model.predict(xtrain)\n",
    "Y_test_pred  = model.predict(xtest)\n",
    "print(\"Train f1-score (micro): {:.4f}\".format(f1_score(Y_train, Y_train_pred, average='micro')))\n",
    "print(\"Test f1-score (micro): {:.4f}\".format(f1_score(Y_test, Y_test_pred, average='micro')))"
   ]
  },
  {
   "cell_type": "markdown",
   "metadata": {},
   "source": [
    "## 5.4 [SVM](https://scikit-learn.org/stable/modules/generated/sklearn.svm.SVC.html)"
   ]
  },
  {
   "cell_type": "code",
   "execution_count": 64,
   "metadata": {},
   "outputs": [
    {
     "name": "stdout",
     "output_type": "stream",
     "text": [
      "Fitting 5 folds for each of 10 candidates, totalling 50 fits\n"
     ]
    },
    {
     "name": "stderr",
     "output_type": "stream",
     "text": [
      "[Parallel(n_jobs=-1)]: Using backend LokyBackend with 4 concurrent workers.\n",
      "[Parallel(n_jobs=-1)]: Done  42 tasks      | elapsed: 130.9min\n",
      "[Parallel(n_jobs=-1)]: Done  50 out of  50 | elapsed: 153.2min finished\n"
     ]
    },
    {
     "name": "stdout",
     "output_type": "stream",
     "text": [
      "Best validation f1-score (micro):  0.5733031066899703\n",
      "Best estimator:  OneVsRestClassifier(estimator=SVC(C=100, break_ties=False, cache_size=200,\n",
      "                                  class_weight='balanced', coef0=0.0,\n",
      "                                  decision_function_shape='ovr', degree=5,\n",
      "                                  gamma='auto', kernel='rbf', max_iter=-1,\n",
      "                                  probability=False, random_state=None,\n",
      "                                  shrinking=True, tol=0.001, verbose=False),\n",
      "                    n_jobs=None)\n",
      "\n",
      "\n",
      "Training the best model....\n",
      "Train f1-score (micro): 0.6333\n",
      "Test f1-score (micro): 0.5260\n"
     ]
    }
   ],
   "source": [
    "params = {\"estimator__gamma\": [\"auto\", \"scale’\"],\n",
    "          \"estimator__C\": [i/10 for i in range(10)]+[i/100 for i in range(1,10)]+\n",
    "                          [10**i for i in range(-7,-3)]+[i for i in range(1,10)]+\n",
    "                          [10**i for i in range(2,5)],\n",
    "         \"estimator__degree\": [3,4,5]}\n",
    "\n",
    "est = OneVsRestClassifier(SVC(class_weight=\"balanced\", kernel=\"rbf\"))\n",
    "search = RandomizedSearchCV(est, params, n_iter=10,scoring='f1_micro', n_jobs = -1,\n",
    "                            cv=5, random_state = 42, verbose = 1)\n",
    "search.fit(xtrain, Y_train)\n",
    "\n",
    "print(\"Best validation f1-score (micro): \", search.best_score_)\n",
    "model = search.best_estimator_\n",
    "print(\"Best estimator: \", model)\n",
    "\n",
    "print(\"\\n\\nTraining the best model....\")\n",
    "model.fit(xtrain, Y_train)\n",
    "\n",
    "Y_train_pred = model.predict(xtrain)\n",
    "Y_test_pred  = model.predict(xtest)\n",
    "print(\"Train f1-score (micro): {:.4f}\".format(f1_score(Y_train, Y_train_pred, average='micro')))\n",
    "print(\"Test f1-score (micro): {:.4f}\".format(f1_score(Y_test, Y_test_pred, average='micro')))"
   ]
  },
  {
   "cell_type": "markdown",
   "metadata": {},
   "source": [
    "## 5.5 [Random Forest](https://scikit-learn.org/stable/modules/generated/sklearn.ensemble.RandomForestClassifier.html#sklearn.ensemble.RandomForestClassifier)"
   ]
  },
  {
   "cell_type": "code",
   "execution_count": 68,
   "metadata": {},
   "outputs": [
    {
     "name": "stdout",
     "output_type": "stream",
     "text": [
      "Fitting 5 folds for each of 20 candidates, totalling 100 fits\n"
     ]
    },
    {
     "name": "stderr",
     "output_type": "stream",
     "text": [
      "[Parallel(n_jobs=-1)]: Using backend LokyBackend with 4 concurrent workers.\n",
      "/usr/local/lib/python3.6/dist-packages/joblib/externals/loky/process_executor.py:706: UserWarning: A worker stopped while some jobs were given to the executor. This can be caused by a too short worker timeout or by a memory leak.\n",
      "  \"timeout or by a memory leak.\", UserWarning\n",
      "[Parallel(n_jobs=-1)]: Done  42 tasks      | elapsed: 22.6min\n",
      "[Parallel(n_jobs=-1)]: Done 100 out of 100 | elapsed: 55.1min finished\n"
     ]
    },
    {
     "name": "stdout",
     "output_type": "stream",
     "text": [
      "Best validation f1-score (micro):  0.5440904637003965\n",
      "Best estimator:  OneVsRestClassifier(estimator=RandomForestClassifier(bootstrap=True,\n",
      "                                                     ccp_alpha=0.0,\n",
      "                                                     class_weight='balanced',\n",
      "                                                     criterion='gini',\n",
      "                                                     max_depth=25,\n",
      "                                                     max_features='auto',\n",
      "                                                     max_leaf_nodes=None,\n",
      "                                                     max_samples=None,\n",
      "                                                     min_impurity_decrease=0.0,\n",
      "                                                     min_impurity_split=None,\n",
      "                                                     min_samples_leaf=1,\n",
      "                                                     min_samples_split=12,\n",
      "                                                     min_weight_fraction_leaf=0.0,\n",
      "                                                     n_estimators=300,\n",
      "                                                     n_jobs=None,\n",
      "                                                     oob_score=False,\n",
      "                                                     random_state=None,\n",
      "                                                     verbose=0,\n",
      "                                                     warm_start=False),\n",
      "                    n_jobs=None)\n",
      "\n",
      "\n",
      "Training the best model....\n",
      "Train f1-score (micro): 0.6247\n",
      "Test f1-score (micro): 0.5665\n"
     ]
    }
   ],
   "source": [
    "params = {\"estimator__n_estimators\": [100, 150, 200, 250, 300, 350, 400, 450, 500],\n",
    "         \"estimator__max_depth\": [3, 5, 7, 10, 12, 15, 17, 20, 25],\n",
    "         \"estimator__min_samples_split\": [2,5,7,10,12,15,20],\n",
    "         \"estimator__max_features\": [\"auto\", \"sqrt\", \"log2\"]}\n",
    "\n",
    "est = OneVsRestClassifier(RandomForestClassifier(class_weight=\"balanced\"))\n",
    "search = RandomizedSearchCV(est, params, n_iter=20,scoring='f1_micro', n_jobs = -1,\n",
    "                            cv=5, random_state = 42, verbose = 1)\n",
    "search.fit(xtrain, Y_train)\n",
    "\n",
    "print(\"Best validation f1-score (micro): \", search.best_score_)\n",
    "model = search.best_estimator_\n",
    "print(\"Best estimator: \", model)\n",
    "\n",
    "print(\"\\n\\nTraining the best model....\")\n",
    "model.fit(xtrain, Y_train)\n",
    "\n",
    "Y_train_pred = model.predict(xtrain)\n",
    "Y_test_pred  = model.predict(xtest)\n",
    "print(\"Train f1-score (micro): {:.4f}\".format(f1_score(Y_train, Y_train_pred, average='micro')))\n",
    "print(\"Test f1-score (micro): {:.4f}\".format(f1_score(Y_test, Y_test_pred, average='micro')))"
   ]
  },
  {
   "cell_type": "markdown",
   "metadata": {},
   "source": [
    "**Model Performance Summary**\n",
    "\n",
    "|Model|Train f1-score|Test f1-score|\n",
    "|-----|--------------|-------------|\n",
    "|Naive Bayes|0.7543|0.6233|\n",
    "|Logistic Regression|0.8073|0.6084|\n",
    "|SVM|0.6333|0.5260|\n",
    "|Random Forest|0.6247|0.5665|\n",
    "\n",
    "* Out of above models **Naive Bayes** Model is giving best performance."
   ]
  },
  {
   "cell_type": "code",
   "execution_count": 40,
   "metadata": {},
   "outputs": [
    {
     "name": "stdout",
     "output_type": "stream",
     "text": [
      "Train f1-score (micro): 0.7574\n",
      "Test f1-score (micro): 0.6193\n",
      "Model report: \n",
      "\n",
      "                                             precision    recall  f1-score   support\n",
      "\n",
      "          agriculture_and_allied_activities       0.80      0.65      0.72       172\n",
      "                       and_products_thereof       0.57      0.42      0.48       128\n",
      "                          business_services       0.81      0.66      0.73       897\n",
      "                                  community       0.36      0.47      0.40       101\n",
      "                               construction       0.68      0.75      0.71       280\n",
      "                                electricity       0.76      0.76      0.76       118\n",
      "                                    finance       0.92      0.84      0.88        69\n",
      "                      gas_&_water_companies       0.76      0.76      0.76       118\n",
      "                                  insurance       0.00      0.00      0.00         0\n",
      "                  manufacturing_food_stuffs       0.60      0.36      0.45        87\n",
      "   manufacturing_leather_&_products_thereof       0.00      0.00      0.00         4\n",
      "       manufacturing_machinery_&_equipments       0.10      0.04      0.05        55\n",
      "           manufacturing_metals_&_chemicals       0.57      0.42      0.48       128\n",
      "                       manufacturing_others       0.00      0.00      0.00        15\n",
      "       manufacturing_paper_&_paper_products       0.69      0.28      0.40        32\n",
      "                     manufacturing_textiles       0.78      0.60      0.68        35\n",
      "                manufacturing_wood_products       0.00      0.00      0.00         3\n",
      "                         mining_&_quarrying       0.75      0.55      0.63        60\n",
      "                 personal_&_social_services       0.36      0.47      0.40       101\n",
      "printing_and_reproduction_of_recorded_media       0.69      0.28      0.40        32\n",
      "                                 publishing       0.69      0.28      0.40        32\n",
      "                    real_estate_and_renting       0.49      0.36      0.41        92\n",
      "                 storage_and_communications       0.56      0.48      0.52        60\n",
      "                                    trading       0.59      0.39      0.47       157\n",
      "                                  transport       0.56      0.48      0.52        60\n",
      "\n",
      "                                  micro avg       0.68      0.57      0.62      2836\n",
      "                                  macro avg       0.52      0.41      0.45      2836\n",
      "                               weighted avg       0.68      0.57      0.61      2836\n",
      "                                samples avg       0.56      0.58      0.56      2836\n",
      "\n"
     ]
    }
   ],
   "source": [
    "from sklearn.metrics import classification_report\n",
    "\n",
    "best_model = OneVsRestClassifier(estimator=MultinomialNB(alpha=0.2, class_prior=None,fit_prior=True))\n",
    "best_model.fit(xtrain, Y_train)\n",
    "\n",
    "Y_train_pred = model.predict(xtrain)\n",
    "Y_test_pred  = model.predict(xtest)\n",
    "print(\"Train f1-score (micro): {:.4f}\".format(f1_score(Y_train, Y_train_pred, average='micro')))\n",
    "print(\"Test f1-score (micro): {:.4f}\".format(f1_score(Y_test, Y_test_pred, average='micro')))\n",
    "\n",
    "print(\"Model report: \\n\")\n",
    "print(classification_report(Y_test, Y_test_pred, target_names = vect.get_feature_names(), zero_division=0))"
   ]
  },
  {
   "cell_type": "code",
   "execution_count": null,
   "metadata": {},
   "outputs": [],
   "source": []
  }
 ],
 "metadata": {
  "kernelspec": {
   "display_name": "Python 3",
   "language": "python",
   "name": "python3"
  },
  "language_info": {
   "codemirror_mode": {
    "name": "ipython",
    "version": 3
   },
   "file_extension": ".py",
   "mimetype": "text/x-python",
   "name": "python",
   "nbconvert_exporter": "python",
   "pygments_lexer": "ipython3",
   "version": "3.6.9"
  }
 },
 "nbformat": 4,
 "nbformat_minor": 2
}
